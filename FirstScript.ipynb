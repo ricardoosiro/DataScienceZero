{
 "cells": [
  {
   "cell_type": "code",
   "execution_count": null,
   "metadata": {},
   "outputs": [],
   "source": [
    "for i in [1, 2, 3, 4, 5]:\n",
    "    print(i)\n",
    "    for j in [1, 2, 3, 4, 5]:\n",
    "        print(j)\n",
    "        print (i + j)\n",
    "    print (i)\n",
    "print( \"done looping\")"
   ]
  },
  {
   "cell_type": "code",
   "execution_count": null,
   "metadata": {},
   "outputs": [],
   "source": [
    "long_winded_computation = (1 + 2 + 3 + 4 + 5 +6 + 7 + 8 + 9 + 10 + 11 + 12 + 13 + 14 + 15)\n",
    "print(long_winded_computation)\n",
    "list_of_lists = [[1, 2, 3], \n",
    "                [4, 5, 6],\n",
    "                [7, 8, 9]]"
   ]
  },
  {
   "cell_type": "code",
   "execution_count": null,
   "metadata": {},
   "outputs": [],
   "source": [
    "import re\n",
    "my_regex = re.compile(\"[0-9]+\", re.I)\n",
    "print(my_regex)"
   ]
  },
  {
   "cell_type": "code",
   "execution_count": null,
   "metadata": {},
   "outputs": [],
   "source": [
    "not_tab_string = r\"\\t\"\n",
    "print(len(not_tab_string))"
   ]
  },
  {
   "cell_type": "code",
   "execution_count": null,
   "metadata": {},
   "outputs": [],
   "source": [
    "try:\n",
    "    print(0/0)\n",
    "except ZeroDivisionError:\n",
    "    print(\"cannot divide by zero\")"
   ]
  },
  {
   "cell_type": "code",
   "execution_count": null,
   "metadata": {},
   "outputs": [],
   "source": [
    "my_list = [1, 2]\n",
    "my_tuple = (1, 2)\n",
    "other_tuple = 3, 4\n",
    "print(my_list)\n",
    "my_list[1] = 3\n",
    "print(my_list)\n",
    "print(my_tuple)\n",
    "try:\n",
    "    my_tuple[1] = 3\n",
    "except TypeError:\n",
    "    print(\"cannot modify a tuple\")\n",
    "    print(TypeError)"
   ]
  },
  {
   "cell_type": "code",
   "execution_count": null,
   "metadata": {},
   "outputs": [],
   "source": [
    "def sum_and_product(x, y):\n",
    "    return (x+y),(x*y)\n",
    "\n",
    "sp = sum_and_product(2, 3)\n",
    "print(sp)\n",
    "s, p = sum_and_product(5, 10)\n",
    "print(s,p)"
   ]
  },
  {
   "cell_type": "code",
   "execution_count": 19,
   "metadata": {},
   "outputs": [
    {
     "name": "stdout",
     "output_type": "stream",
     "text": [
      "{'Joel': 80, 'Tim': 95}\n",
      "80\n"
     ]
    }
   ],
   "source": [
    "empty_dict = {}\n",
    "empty_dict2 = dict()\n",
    "grades = {\"Joel\": 80, \"Tim\":95}\n",
    "print(grades)\n",
    "joels_grade = grades[\"Joel\"]\n",
    "print(joels_grade)"
   ]
  },
  {
   "cell_type": "code",
   "execution_count": null,
   "metadata": {},
   "outputs": [],
   "source": []
  },
  {
   "cell_type": "code",
   "execution_count": null,
   "metadata": {},
   "outputs": [],
   "source": []
  }
 ],
 "metadata": {
  "kernelspec": {
   "display_name": "Python 3",
   "language": "python",
   "name": "python3"
  },
  "language_info": {
   "codemirror_mode": {
    "name": "ipython",
    "version": 3
   },
   "file_extension": ".py",
   "mimetype": "text/x-python",
   "name": "python",
   "nbconvert_exporter": "python",
   "pygments_lexer": "ipython3",
   "version": "3.6.2"
  }
 },
 "nbformat": 4,
 "nbformat_minor": 2
}
