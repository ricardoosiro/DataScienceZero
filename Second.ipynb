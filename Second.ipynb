{
 "cells": [
  {
   "cell_type": "code",
   "execution_count": 11,
   "metadata": {},
   "outputs": [
    {
     "name": "stdout",
     "output_type": "stream",
     "text": [
      "[100, 1, 1, 1, 1, 1, 1, 1, 1, 1, 2, 2, 2, 2, 2, 2, 3, 3, 3, 3, 3, 3, 4, 4, 4, 4, 4, 4, 5, 5, 5, 5, 5, 5, 6, 6, 6, 6, 6, 1, 1, 1, 1, 1, 1, 2, 2, 2, 2, 2, 2, 2, 2, 2, 49, 41, 40, 25, 0, 10, 11, 12, 12, 14, 15, 21, 4, 2, 11, 12, 15, 18, 21, 22, 23, 21, 12, 13, 15, 34, 41, 45, 12, 0, 7, 4, 26, 34, 42]\n",
      "range(0, 101)\n",
      "[2, 15, 16, 6, 8, 6, 5, 1, 0, 0, 1, 2, 5, 1, 1, 3, 0, 0, 1, 0, 0, 3, 1, 1, 0, 1, 1, 0, 0, 0, 0, 0, 0, 0, 2, 0, 0, 0, 0, 0, 1, 2, 1, 0, 0, 1, 0, 0, 0, 1, 0, 0, 0, 0, 0, 0, 0, 0, 0, 0, 0, 0, 0, 0, 0, 0, 0, 0, 0, 0, 0, 0, 0, 0, 0, 0, 0, 0, 0, 0, 0, 0, 0, 0, 0, 0, 0, 0, 0, 0, 0, 0, 0, 0, 0, 0, 0, 0, 0, 0, 1]\n"
     ]
    },
    {
     "data": {
      "image/png": "[encoded data removed]",
      "text/plain": [
       "<Figure size 432x288 with 1 Axes>"
      ]
     },
     "metadata": {
      "needs_background": "light"
     },
     "output_type": "display_data"
    },
    {
     "name": "stdout",
     "output_type": "stream",
     "text": [
      "89\n",
      "[0, 0, 1, 1, 1, 1, 1, 1, 1, 1, 1, 1, 1, 1, 1, 1, 1, 2, 2, 2, 2, 2, 2, 2, 2, 2, 2, 2, 2, 2, 2, 2, 2, 3, 3, 3, 3, 3, 3, 4, 4, 4, 4, 4, 4, 4, 4, 5, 5, 5, 5, 5, 5, 6, 6, 6, 6, 6, 7, 10, 11, 11, 12, 12, 12, 12, 12, 13, 14, 15, 15, 15, 18, 21, 21, 21, 22, 23, 25, 26, 34, 34, 40, 41, 41, 42, 45, 49, 100]\n",
      "49\n"
     ]
    }
   ],
   "source": [
    "from collections import Counter\n",
    "num_friends = [100,1, 1,1,1,1,1,1,1,1,2,2,2,2,2,2,3,3,3,3,3,3,4,4,4,4,4,4,5,5,5,5,5,5,6,6,6,6,6,1,1,1,1,1,1,2,2,2,2,2,2,2,2,2,49, 41, 40, 25, 0, 10, 11, 12, 12, 14, 15, 21, 4, 2, 11, 12, 15, 18, 21, 22, 23, 21, 12, 13, 15, 34, 41, 45, 12, 0, 7, 4, 26, 34, 42 ]\n",
    "print(num_friends)\n",
    "\n",
    "friend_count = Counter(num_friends)\n",
    "xs = range(101)\n",
    "ys = [friend_count[x] for x in xs]\n",
    "print(xs)\n",
    "print(ys)\n",
    "from matplotlib import pyplot as plt\n",
    "plt.bar(xs, ys)\n",
    "plt.axis([0, 101, 0, 25])\n",
    "plt.title(\"Histograma de Contagem de Amigos\")\n",
    "plt.xlabel(\"#de amigos\")\n",
    "plt.ylabel(\"#de pessoas\")\n",
    "plt.show()\n",
    "\n",
    "\n",
    "num_points = len(num_friends)\n",
    "print(num_points)\n",
    "largest_value = max(num_friends)\n",
    "smallest_value = min(num_friends)\n",
    "sorted_values = sorted(num_friends)\n",
    "print(sorted_values)\n",
    "smallest_value = sorted_values[0]\n",
    "second_smallest_value = sorted_values[1]\n",
    "second_largest_value = sorted_values[-2]\n",
    "print(second_largest_value)"
   ]
  },
  {
   "cell_type": "code",
   "execution_count": null,
   "metadata": {},
   "outputs": [],
   "source": []
  },
  {
   "cell_type": "code",
   "execution_count": null,
   "metadata": {},
   "outputs": [],
   "source": []
  }
 ],
 "metadata": {
  "kernelspec": {
   "display_name": "Python 3",
   "language": "python",
   "name": "python3"
  },
  "language_info": {
   "codemirror_mode": {
    "name": "ipython",
    "version": 3
   },
   "file_extension": ".py",
   "mimetype": "text/x-python",
   "name": "python",
   "nbconvert_exporter": "python",
   "pygments_lexer": "ipython3",
   "version": "3.6.2"
  }
 },
 "nbformat": 4,
 "nbformat_minor": 2
}
